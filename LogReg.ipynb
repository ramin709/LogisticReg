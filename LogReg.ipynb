{
 "cells": [
  {
   "cell_type": "code",
   "execution_count": 3,
   "id": "2336b5a3-4c2d-41dc-93e1-b64459c3ca45",
   "metadata": {},
   "outputs": [
    {
     "name": "stdout",
     "output_type": "stream",
     "text": [
      "   sepal length (cm)  sepal width (cm)  petal length (cm)  petal width (cm)\n",
      "0                5.1               3.5                1.4               0.2\n",
      "1                4.9               3.0                1.4               0.2\n",
      "2                4.7               3.2                1.3               0.2\n",
      "3                4.6               3.1                1.5               0.2\n",
      "4                5.0               3.6                1.4               0.2\n",
      "0    0\n",
      "1    0\n",
      "2    0\n",
      "3    0\n",
      "4    0\n",
      "dtype: int64\n"
     ]
    }
   ],
   "source": [
    "import pandas as pd\n",
    "import numpy as np\n",
    "from sklearn.datasets import load_iris\n",
    "\n",
    "iris = load_iris()\n",
    "X = pd.DataFrame(iris.data, columns= iris.feature_names)\n",
    "Y = pd.Series(iris.target)\n",
    "\n",
    "print(X.head())\n",
    "print(Y.head())"
   ]
  },
  {
   "cell_type": "code",
   "execution_count": 16,
   "id": "d7ccfa79-482b-44d5-a06a-b0a712013ed4",
   "metadata": {},
   "outputs": [],
   "source": [
    "from sklearn.preprocessing import StandardScaler\n",
    "from sklearn.model_selection import train_test_split\n",
    "\n",
    "X_binary = X[Y != 2]\n",
    "Y_binary = Y[ Y != 2 ]\n",
    "\n",
    "scaler = StandardScaler()\n",
    "X_scaled = scaler.fit_transform(X)\n",
    "X_binary_scaled = scaler.fit_transform(X_binary)\n",
    "\n",
    "X_train, X_test, Y_train, Y_test = train_test_split(X_scaled, Y, test_size=0.2, random_state=42)\n",
    "X_bin_train, X_bin_test, Y_bin_train, Y_bin_test = train_test_split(X_binary_scaled, Y_binary, test_size=0.2, random_state=42)"
   ]
  },
  {
   "cell_type": "code",
   "execution_count": 17,
   "id": "45d4a332-9c50-43e0-8a2d-3683acd07e60",
   "metadata": {},
   "outputs": [
    {
     "name": "stdout",
     "output_type": "stream",
     "text": [
      "Acuuracy for logistic regression:  1.00\n",
      "\n",
      "Confusion matrix for logistic regression:  [[12  0]\n",
      " [ 0  8]]\n",
      "Classification report: \n",
      "               precision    recall  f1-score   support\n",
      "\n",
      "           0       1.00      1.00      1.00        12\n",
      "           1       1.00      1.00      1.00         8\n",
      "\n",
      "    accuracy                           1.00        20\n",
      "   macro avg       1.00      1.00      1.00        20\n",
      "weighted avg       1.00      1.00      1.00        20\n",
      "\n"
     ]
    }
   ],
   "source": [
    "from sklearn.linear_model import LogisticRegression\n",
    "from sklearn.metrics import confusion_matrix, accuracy_score, classification_report\n",
    "\n",
    "log_reg = LogisticRegression( penalty='l2', C=1.0, random_state=42)\n",
    "log_reg.fit(X_bin_train, Y_bin_train)\n",
    "Y_log_reg = log_reg.predict(X_bin_test)\n",
    "\n",
    "accuracy_bin = accuracy_score(Y_bin_test, Y_log_reg)\n",
    "confusion_bin = confusion_matrix(Y_bin_test, Y_log_reg)\n",
    "\n",
    "print(f\"Acuuracy for logistic regression: {accuracy_bin: .2f}\")\n",
    "print(\"\\nConfusion matrix for logistic regression: \", confusion_bin)\n",
    "print(\"Classification report: \\n\", classification_report(Y_bin_test, Y_log_reg))"
   ]
  },
  {
   "cell_type": "code",
   "execution_count": 18,
   "id": "5c6c699c-705a-4fc2-940a-22284e21f29b",
   "metadata": {},
   "outputs": [
    {
     "name": "stdout",
     "output_type": "stream",
     "text": [
      "Acuuracy for softmax regression:  1.00\n",
      "\n",
      "Confusion matrix for softmax regression:  [[10  0  0]\n",
      " [ 0  9  0]\n",
      " [ 0  0 11]]\n",
      "Classification report: \n",
      "               precision    recall  f1-score   support\n",
      "\n",
      "           0       1.00      1.00      1.00        10\n",
      "           1       1.00      1.00      1.00         9\n",
      "           2       1.00      1.00      1.00        11\n",
      "\n",
      "    accuracy                           1.00        30\n",
      "   macro avg       1.00      1.00      1.00        30\n",
      "weighted avg       1.00      1.00      1.00        30\n",
      "\n"
     ]
    },
    {
     "name": "stderr",
     "output_type": "stream",
     "text": [
      "C:\\Users\\Raven\\AppData\\Local\\Programs\\Python\\Python310\\lib\\site-packages\\sklearn\\linear_model\\_logistic.py:1247: FutureWarning: 'multi_class' was deprecated in version 1.5 and will be removed in 1.7. From then on, it will always use 'multinomial'. Leave it to its default value to avoid this warning.\n",
      "  warnings.warn(\n"
     ]
    }
   ],
   "source": [
    "softmax = LogisticRegression(multi_class='multinomial', penalty='l2' ,C=1.0, solver='lbfgs', random_state=42)\n",
    "softmax.fit(X_train, Y_train)\n",
    "Y_soft = softmax.predict(X_test)\n",
    "\n",
    "acc_soft = accuracy_score(Y_test, Y_soft)\n",
    "confusion_soft = confusion_matrix(Y_test, Y_soft)\n",
    "\n",
    "print(f\"Acuuracy for softmax regression: {acc_soft: .2f}\")\n",
    "print(\"\\nConfusion matrix for softmax regression: \", confusion_soft)\n",
    "print(\"Classification report: \\n\", classification_report(Y_test, Y_soft))"
   ]
  },
  {
   "cell_type": "code",
   "execution_count": null,
   "id": "69e78eac-d496-42f0-b751-e366055c3007",
   "metadata": {},
   "outputs": [],
   "source": []
  }
 ],
 "metadata": {
  "kernelspec": {
   "display_name": "Python 3 (ipykernel)",
   "language": "python",
   "name": "python3"
  },
  "language_info": {
   "codemirror_mode": {
    "name": "ipython",
    "version": 3
   },
   "file_extension": ".py",
   "mimetype": "text/x-python",
   "name": "python",
   "nbconvert_exporter": "python",
   "pygments_lexer": "ipython3",
   "version": "3.10.4"
  }
 },
 "nbformat": 4,
 "nbformat_minor": 5
}
